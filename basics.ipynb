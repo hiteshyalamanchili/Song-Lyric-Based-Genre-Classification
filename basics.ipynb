{
 "cells": [
  {
   "cell_type": "markdown",
   "metadata": {},
   "source": [
    "Basic LSTM"
   ]
  },
  {
   "cell_type": "code",
   "execution_count": 70,
   "metadata": {
    "collapsed": false
   },
   "outputs": [],
   "source": [
    "import numpy as np\n",
    "import pandas as pd\n",
    "import string\n",
    "import tensorflow as tf\n",
    "import keras\n",
    "from keras.datasets import imdb\n",
    "from keras.models import Sequential\n",
    "from keras.layers import Dense\n",
    "from keras.layers import LSTM\n",
    "from keras.layers.embeddings import Embedding\n",
    "from keras.preprocessing import sequence, text\n",
    "import json\n",
    "import sklearn\n",
    "from sklearn import preprocessing as skpp"
   ]
  },
  {
   "cell_type": "code",
   "execution_count": 2,
   "metadata": {
    "collapsed": false
   },
   "outputs": [],
   "source": [
    "data = pd.read_csv('./dataset/cleaned_lyrics.csv')"
   ]
  },
  {
   "cell_type": "code",
   "execution_count": 3,
   "metadata": {
    "collapsed": false
   },
   "outputs": [
    {
     "name": "stdout",
     "output_type": "stream",
     "text": [
      "        Unnamed: 0   index                                               song  \\\n",
      "0                0       0                                          ego-remix   \n",
      "1                1       1                                       then-tell-me   \n",
      "2                2       2                                            honesty   \n",
      "3                3       3                                    you-are-my-rock   \n",
      "4                4       4                                      black-culture   \n",
      "5                5       5                             all-i-could-do-was-cry   \n",
      "6                6       6                                 once-in-a-lifetime   \n",
      "7                7       7                                            waiting   \n",
      "8                8       8                                          slow-love   \n",
      "9                9       9                              why-don-t-you-love-me   \n",
      "10              10      10                                      save-the-hero   \n",
      "11              11      11                                          telephone   \n",
      "12              12      12                                    ice-cream-truck   \n",
      "13              13      13                             no-broken-hearted-girl   \n",
      "14              14      14                                            control   \n",
      "15              15      15                                      i-m-alone-now   \n",
      "16              16      16                                             poison   \n",
      "17              17      17                                   world-wide-women   \n",
      "18              18      18                                     beautiful-liar   \n",
      "19              19      19                             beautiful-liar-spanish   \n",
      "20              20      20                   beautiful-liar-spanglish-version   \n",
      "21              21      21                                          bienvenue   \n",
      "22              22      22                                beutiful-liar-remix   \n",
      "23              23      23  he-still-loves-me-f-choir-from-fighting-tempta...   \n",
      "24              24      24                                    bello-embustero   \n",
      "25              25      25                                         irreplable   \n",
      "26              26      26                                      the-first-day   \n",
      "27              27      27                                             my-man   \n",
      "28              28      28                                 what-s-it-gonna-be   \n",
      "29              29      29                                                 if   \n",
      "...            ...     ...                                                ...   \n",
      "227419      362177  362177                                      edward-kelley   \n",
      "227420      362178  362178                                   the-moon-exalted   \n",
      "227421      362179  362179                                the-marvelous-dream   \n",
      "227422      362181  362181                                             saturn   \n",
      "227423      362182  362182                                           a-prayer   \n",
      "227424      362183  362183                                   a-man-of-england   \n",
      "227425      362185  362185                                        apple-carts   \n",
      "227426      362194  362194                                   sunset-coming-in   \n",
      "227427      362203  362203                    the-history-of-a-cheating-heart   \n",
      "227428      362204  362204                                  lonely-press-play   \n",
      "227429      362205  362205                                           mr-tembo   \n",
      "227430      362208  362208                                    everyday-robots   \n",
      "227431      362209  362209                                 heavy-seas-of-love   \n",
      "227432      362210  362210                     photographs-you-are-taking-now   \n",
      "227433      362211  362211                                         you-and-me   \n",
      "227434      362212  362212                                       hollow-ponds   \n",
      "227435      362213  362213                                  the-selfish-giant   \n",
      "227436      362214  362214                                           hostiles   \n",
      "227437      362225  362225              can-t-you-see-that-you-are-killing-me   \n",
      "227438      362226  362226                          you-ll-never-know-my-name   \n",
      "227439      362227  362227                                too-good-to-be-true   \n",
      "227440      362228  362228                                      skinny-dippin   \n",
      "227441      362229  362229                                         cherry-pie   \n",
      "227442      362230  362230                                      feels-so-real   \n",
      "227443      362231  362231                                       swingin-door   \n",
      "227444      362232  362232                          who-am-i-drinking-tonight   \n",
      "227445      362233  362233                                               liar   \n",
      "227446      362234  362234                                        last-supper   \n",
      "227447      362235  362235                        christ-alone-live-in-studio   \n",
      "227448      362236  362236                                               amen   \n",
      "\n",
      "        year           artist    genre  \\\n",
      "0       2009  beyonce-knowles      Pop   \n",
      "1       2009  beyonce-knowles      Pop   \n",
      "2       2009  beyonce-knowles      Pop   \n",
      "3       2009  beyonce-knowles      Pop   \n",
      "4       2009  beyonce-knowles      Pop   \n",
      "5       2009  beyonce-knowles      Pop   \n",
      "6       2009  beyonce-knowles      Pop   \n",
      "7       2009  beyonce-knowles      Pop   \n",
      "8       2009  beyonce-knowles      Pop   \n",
      "9       2009  beyonce-knowles      Pop   \n",
      "10      2009  beyonce-knowles      Pop   \n",
      "11      2009  beyonce-knowles      Pop   \n",
      "12      2009  beyonce-knowles      Pop   \n",
      "13      2009  beyonce-knowles      Pop   \n",
      "14      2009  beyonce-knowles      Pop   \n",
      "15      2009  beyonce-knowles      Pop   \n",
      "16      2009  beyonce-knowles      Pop   \n",
      "17      2007  beyonce-knowles      Pop   \n",
      "18      2007  beyonce-knowles      Pop   \n",
      "19      2007  beyonce-knowles      Pop   \n",
      "20      2007  beyonce-knowles      Pop   \n",
      "21      2007  beyonce-knowles      Pop   \n",
      "22      2007  beyonce-knowles      Pop   \n",
      "23      2007  beyonce-knowles      Pop   \n",
      "24      2007  beyonce-knowles      Pop   \n",
      "25      2007  beyonce-knowles      Pop   \n",
      "26      2007  beyonce-knowles      Pop   \n",
      "27      2007  beyonce-knowles      Pop   \n",
      "28      2007  beyonce-knowles      Pop   \n",
      "29      2007  beyonce-knowles      Pop   \n",
      "...      ...              ...      ...   \n",
      "227419  2012     damon-albarn      Pop   \n",
      "227420  2012     damon-albarn      Pop   \n",
      "227421  2012     damon-albarn      Pop   \n",
      "227422  2012     damon-albarn      Pop   \n",
      "227423  2012     damon-albarn      Pop   \n",
      "227424  2012     damon-albarn      Pop   \n",
      "227425  2012     damon-albarn      Pop   \n",
      "227426  2015     damon-albarn      Pop   \n",
      "227427  2014     damon-albarn      Pop   \n",
      "227428  2014     damon-albarn      Pop   \n",
      "227429  2014     damon-albarn      Pop   \n",
      "227430  2014     damon-albarn      Pop   \n",
      "227431  2014     damon-albarn      Pop   \n",
      "227432  2014     damon-albarn      Pop   \n",
      "227433  2014     damon-albarn      Pop   \n",
      "227434  2014     damon-albarn      Pop   \n",
      "227435  2014     damon-albarn      Pop   \n",
      "227436  2014     damon-albarn      Pop   \n",
      "227437  2015         dee-smgn    Other   \n",
      "227438  2015         dee-smgn    Other   \n",
      "227439  2012       edens-edge  Country   \n",
      "227440  2012       edens-edge  Country   \n",
      "227441  2012       edens-edge  Country   \n",
      "227442  2012       edens-edge  Country   \n",
      "227443  2012       edens-edge  Country   \n",
      "227444  2012       edens-edge  Country   \n",
      "227445  2012       edens-edge  Country   \n",
      "227446  2012       edens-edge  Country   \n",
      "227447  2012       edens-edge  Country   \n",
      "227448  2012       edens-edge  Country   \n",
      "\n",
      "                                                   lyrics  \n",
      "0       Oh baby how you doing You know I'm gonna cut r...  \n",
      "1       playin everything so easy it's like you seem s...  \n",
      "2       If you search For tenderness It isn't hard to ...  \n",
      "3       Oh oh oh I oh oh oh I If I wrote a book about ...  \n",
      "4       Party the people the people the party it's pop...  \n",
      "5       I heard Church bells ringing I heard A choir s...  \n",
      "6       This is just another day that I would spend Wa...  \n",
      "7       Waiting waiting waiting waiting Waiting waitin...  \n",
      "8        I read all of the magazines while waiting aro...  \n",
      "9       N n now honey You better sit down and look aro...  \n",
      "10      I lay alone awake at night Sorrow fills my eye...  \n",
      "11      Hello hello baby you called I can't hear a thi...  \n",
      "12      Feels like I'm losing my mind Love is so hard ...  \n",
      "13      Youre everything I thought you never were And ...  \n",
      "14      I gotta give up to quite the storm that rages ...  \n",
      "15      It really hurts to say this yes it does But af...  \n",
      "16      You're bad for me I clearly get it I don't see...  \n",
      "17       I'm a world wide woman WWW you can log on any...  \n",
      "18      Ay Ay Ay Nobody likes to be played Oh Beyonce ...  \n",
      "19      Ay Ay Nobody likes being played Ay Oh Beyonc B...  \n",
      "20      Ay Ay Nobody likes being played Ay Oh Beyonce ...  \n",
      "21      Beyonc Intro Beyonce IAM Welcome Welcome Hey O...  \n",
      "22      Ay Ay Nobody likes being played Ay Oh Beyonc B...  \n",
      "23      Took me a while but I'm finally here So I just...  \n",
      "24      Ay Ay Ay Oh Beyonc Beyonc Oh Beyonc Beyonc Hey...  \n",
      "25      To the left to the left To the left to the lef...  \n",
      "26      Remember the first day when I saw your face re...  \n",
      "27      you say that he's wrong you say that he's no g...  \n",
      "28      1st verse hey you what's the deal its popping ...  \n",
      "29      He is always laughin and flirting with me And ...  \n",
      "...                                                   ...  \n",
      "227419  I must cry I am a wonder us house I am the wit...  \n",
      "227420  To love another Would it mean my heart Let it ...  \n",
      "227421  Hurricane spitting tornado Growl over London t...  \n",
      "227422  I summon the voice of distance stars Saturn sp...  \n",
      "227423  Lord I have sight according to thy choice my l...  \n",
      "227424  Hurricane spitting tornado Growl over London t...  \n",
      "227425  Pull the apple carts Up from silvery hill High...  \n",
      "227426  Waking up It's been too long Feel the warmth O...  \n",
      "227427  More than you know More than you know When the...  \n",
      "227428  Arrhythmia Accepting that you live with uncert...  \n",
      "227429  Injili Injili Can I sing with you 'Bout Mr Tem...  \n",
      "227430  We are everyday robots on our phones In the pr...  \n",
      "227431  When your soul isn't right And it's raw to the...  \n",
      "227432  When the photographs you're taking now Are tak...  \n",
      "227433  I met Moko jumbie He walks on stilts through a...  \n",
      "227434  Chill on the hollow ponds Set sail by a kid In...  \n",
      "227435  Celebrate the passing drugs Put them on the ba...  \n",
      "227436  When the serve is done And the parish shuffled...  \n",
      "227437  Days getting dark and the nights are growing c...  \n",
      "227438  You'll never know my name And my pictures will...  \n",
      "227439  You walked in shining brighter than a headligh...  \n",
      "227440  I warned you that the tank was low Shoulda sto...  \n",
      "227441  To my first pony Cherry Pie From the little gi...  \n",
      "227442  It was two years ago and it was yesterday It m...  \n",
      "227443  You've got your Texas way of walking You've go...  \n",
      "227444  I gotta say Boy after only just a couple of da...  \n",
      "227445  I helped you find her diamond ring You made me...  \n",
      "227446  Look at the couple in the corner booth Looks a...  \n",
      "227447  When I fly off this mortal earth And I'm measu...  \n",
      "227448  I heard from a friend of a friend of a friend ...  \n",
      "\n",
      "[227449 rows x 7 columns]\n"
     ]
    }
   ],
   "source": [
    "print(data)\n",
    "\n",
    "# cols: index, song, year, artist, genre, lyrics\n",
    "# N = 227449 songs"
   ]
  },
  {
   "cell_type": "code",
   "execution_count": 25,
   "metadata": {
    "collapsed": false
   },
   "outputs": [],
   "source": [
    "numpy_data = data['lyrics'].values\n",
    "max_words = 5000\n",
    "\n",
    "# create a new Tokenizer\n",
    "tokenizer = text.Tokenizer(num_words=max_words)\n",
    "# feed our tweets to the Tokenizer\n",
    "tokenizer.fit_on_texts(numpy_data)\n",
    "\n",
    "# Tokenizers come with a convenient list of words and IDs\n",
    "dictionary = tokenizer.word_index\n",
    "\n",
    "with open('dictionary.json', 'w') as dictionary_file:\n",
    "    json.dump(dictionary, dictionary_file)"
   ]
  },
  {
   "cell_type": "code",
   "execution_count": 31,
   "metadata": {
    "collapsed": false
   },
   "outputs": [],
   "source": [
    "indexed_data = []\n",
    "# for each tweet, change each token to its ID in the Tokenizer's word_index\n",
    "for txt in numpy_data:\n",
    "    wordIndices = [dictionary[word] for word in text.text_to_word_sequence(txt)]\n",
    "    indexed_data.append(wordIndices)\n",
    "\n",
    "# now we have a list of all tweets converted to index arrays.\n",
    "# cast as an array for future usage.\n",
    "indexed_data = np.asarray(indexed_data)"
   ]
  },
  {
   "cell_type": "code",
   "execution_count": 91,
   "metadata": {
    "collapsed": false
   },
   "outputs": [],
   "source": [
    "#max lyric length is 6208 at song #9467\n",
    "#top 10 lyric lengths: [5131 4287 6208 3278 3167 3155 3153 2997 2750 2660]\n",
    "#for top 1000 lengthiest songs, even first 1000 words seems sufficient\n",
    "#for top 100 lengthiest songs, first 1500 words seems sufficient\n",
    "#np.max(np.vectorize(len)(indexed_data))\n",
    "#temp = np.partition(-np.vectorize(len)(indexed_data), 100)\n",
    "#result_args = temp[:100]\n",
    "\n",
    "label_encoder = skpp.LabelEncoder()\n",
    "indexed_labels = np.array(label_encoder.fit_transform(data['genre'].values))\n",
    "#label_encoder.inverse_transform(np.array([10, 8])) #to get original genre text back"
   ]
  },
  {
   "cell_type": "code",
   "execution_count": 101,
   "metadata": {
    "collapsed": false
   },
   "outputs": [],
   "source": [
    "num_test = 30000\n",
    "\n",
    "#shuffle data before splitting off test set\n",
    "random_indexes = numpy.random.permutation(len(indexed_labels))\n",
    "indexed_data = indexed_data[random_indexes]\n",
    "indexed_labels = indexed_labels[random_indexes]\n",
    "\n",
    "X_train = indexed_data[:-num_test]\n",
    "y_train = indexed_labels[:-num_test]\n",
    "X_test  = indexed_data[-num_test:]\n",
    "y_test  = indexed_labels[-num_test:]\n",
    "\n",
    "y_train = keras.utils.to_categorical(y_train)\n",
    "y_test = keras.utils.to_categorical(y_test)"
   ]
  },
  {
   "cell_type": "code",
   "execution_count": 97,
   "metadata": {
    "collapsed": false
   },
   "outputs": [],
   "source": [
    "# fix random seed for reproducibility\n",
    "numpy.random.seed(7)\n",
    "X_train_padded = sequence.pad_sequences(X_train, maxlen=max_review_length)\n",
    "X_test_padded = sequence.pad_sequences(X_test, maxlen=max_review_length)"
   ]
  },
  {
   "cell_type": "code",
   "execution_count": 106,
   "metadata": {
    "collapsed": false
   },
   "outputs": [
    {
     "name": "stdout",
     "output_type": "stream",
     "text": [
      "[336097, 14, 12, 5061, 5547, 169, 3729, 434, 8548, 12, 881, 623, 10153, 3565, 1, 4756, 11, 246, 2284, 7808, 2656, 146, 1, 5292, 7902, 9, 6, 7054, 1484, 2117, 156, 132, 2401, 11, 213, 35791, 11, 15237, 423, 1, 10657, 188, 12, 15348, 20473, 2702, 1, 4720, 32, 12, 47489, 76808, 525, 11, 4796, 22531, 11, 5172, 29403, 2182, 552, 11, 336098, 20, 2166, 1, 4049, 1343, 146, 1708, 11235, 316, 32067, 2730, 40, 4606, 82, 95, 1762, 29218, 1, 8368, 11, 193, 5406, 32527, 8113, 15207, 4883, 23, 25253, 859, 1, 7412, 11, 29, 2814, 1833, 14471, 17, 1, 9006, 38821, 1825, 1, 332, 11, 1289, 6091, 489, 1, 691, 7902, 2117, 1870, 704]\n"
     ]
    }
   ],
   "source": [
    "#vocab size = 336097"
   ]
  },
  {
   "cell_type": "code",
   "execution_count": 108,
   "metadata": {
    "collapsed": false
   },
   "outputs": [
    {
     "name": "stdout",
     "output_type": "stream",
     "text": [
      "_________________________________________________________________\n",
      "Layer (type)                 Output Shape              Param #   \n",
      "=================================================================\n",
      "embedding_9 (Embedding)      (None, 1000, 32)          10755104  \n",
      "_________________________________________________________________\n",
      "lstm_9 (LSTM)                (None, 100)               53200     \n",
      "_________________________________________________________________\n",
      "dense_9 (Dense)              (None, 11)                1111      \n",
      "=================================================================\n",
      "Total params: 10,809,415\n",
      "Trainable params: 10,809,415\n",
      "Non-trainable params: 0\n",
      "_________________________________________________________________\n",
      "None\n",
      "Epoch 1/1\n",
      "   384/197449 [..............................] - ETA: 2:50:16 - loss: 2.3898 - acc: 0.3776"
     ]
    },
    {
     "name": "stderr",
     "output_type": "stream",
     "text": [
      "/anaconda/lib/python3.6/site-packages/keras/models.py:942: UserWarning: The `nb_epoch` argument in `fit` has been renamed `epochs`.\n",
      "  warnings.warn('The `nb_epoch` argument in `fit` '\n"
     ]
    },
    {
     "ename": "KeyboardInterrupt",
     "evalue": "",
     "output_type": "error",
     "traceback": [
      "\u001b[0;31m---------------------------------------------------------------------------\u001b[0m",
      "\u001b[0;31mKeyboardInterrupt\u001b[0m                         Traceback (most recent call last)",
      "\u001b[0;32m<ipython-input-108-a5e5ac19aa3a>\u001b[0m in \u001b[0;36m<module>\u001b[0;34m()\u001b[0m\n\u001b[1;32m      9\u001b[0m \u001b[0mmodel\u001b[0m\u001b[0;34m.\u001b[0m\u001b[0mcompile\u001b[0m\u001b[0;34m(\u001b[0m\u001b[0mloss\u001b[0m\u001b[0;34m=\u001b[0m\u001b[0;34m'categorical_crossentropy'\u001b[0m\u001b[0;34m,\u001b[0m \u001b[0moptimizer\u001b[0m\u001b[0;34m=\u001b[0m\u001b[0;34m'adam'\u001b[0m\u001b[0;34m,\u001b[0m \u001b[0mmetrics\u001b[0m\u001b[0;34m=\u001b[0m\u001b[0;34m[\u001b[0m\u001b[0;34m'accuracy'\u001b[0m\u001b[0;34m]\u001b[0m\u001b[0;34m)\u001b[0m\u001b[0;34m\u001b[0m\u001b[0m\n\u001b[1;32m     10\u001b[0m \u001b[0mprint\u001b[0m\u001b[0;34m(\u001b[0m\u001b[0mmodel\u001b[0m\u001b[0;34m.\u001b[0m\u001b[0msummary\u001b[0m\u001b[0;34m(\u001b[0m\u001b[0;34m)\u001b[0m\u001b[0;34m)\u001b[0m\u001b[0;34m\u001b[0m\u001b[0m\n\u001b[0;32m---> 11\u001b[0;31m \u001b[0mmodel\u001b[0m\u001b[0;34m.\u001b[0m\u001b[0mfit\u001b[0m\u001b[0;34m(\u001b[0m\u001b[0mX_train_padded\u001b[0m\u001b[0;34m,\u001b[0m \u001b[0my_train\u001b[0m\u001b[0;34m,\u001b[0m \u001b[0mnb_epoch\u001b[0m\u001b[0;34m=\u001b[0m\u001b[0;36m1\u001b[0m\u001b[0;34m,\u001b[0m \u001b[0mbatch_size\u001b[0m\u001b[0;34m=\u001b[0m\u001b[0;36m64\u001b[0m\u001b[0;34m)\u001b[0m\u001b[0;34m\u001b[0m\u001b[0m\n\u001b[0m\u001b[1;32m     12\u001b[0m \u001b[0;31m# Final evaluation of the model\u001b[0m\u001b[0;34m\u001b[0m\u001b[0;34m\u001b[0m\u001b[0m\n\u001b[1;32m     13\u001b[0m \u001b[0mscores\u001b[0m \u001b[0;34m=\u001b[0m \u001b[0mmodel\u001b[0m\u001b[0;34m.\u001b[0m\u001b[0mevaluate\u001b[0m\u001b[0;34m(\u001b[0m\u001b[0mX_test_padded\u001b[0m\u001b[0;34m,\u001b[0m \u001b[0my_test\u001b[0m\u001b[0;34m,\u001b[0m \u001b[0mverbose\u001b[0m\u001b[0;34m=\u001b[0m\u001b[0;36m0\u001b[0m\u001b[0;34m)\u001b[0m\u001b[0;34m\u001b[0m\u001b[0m\n",
      "\u001b[0;32m/anaconda/lib/python3.6/site-packages/keras/models.py\u001b[0m in \u001b[0;36mfit\u001b[0;34m(self, x, y, batch_size, epochs, verbose, callbacks, validation_split, validation_data, shuffle, class_weight, sample_weight, initial_epoch, steps_per_epoch, validation_steps, **kwargs)\u001b[0m\n\u001b[1;32m    961\u001b[0m                               \u001b[0minitial_epoch\u001b[0m\u001b[0;34m=\u001b[0m\u001b[0minitial_epoch\u001b[0m\u001b[0;34m,\u001b[0m\u001b[0;34m\u001b[0m\u001b[0m\n\u001b[1;32m    962\u001b[0m                               \u001b[0msteps_per_epoch\u001b[0m\u001b[0;34m=\u001b[0m\u001b[0msteps_per_epoch\u001b[0m\u001b[0;34m,\u001b[0m\u001b[0;34m\u001b[0m\u001b[0m\n\u001b[0;32m--> 963\u001b[0;31m                               validation_steps=validation_steps)\n\u001b[0m\u001b[1;32m    964\u001b[0m \u001b[0;34m\u001b[0m\u001b[0m\n\u001b[1;32m    965\u001b[0m     def evaluate(self, x=None, y=None,\n",
      "\u001b[0;32m/anaconda/lib/python3.6/site-packages/keras/engine/training.py\u001b[0m in \u001b[0;36mfit\u001b[0;34m(self, x, y, batch_size, epochs, verbose, callbacks, validation_split, validation_data, shuffle, class_weight, sample_weight, initial_epoch, steps_per_epoch, validation_steps, **kwargs)\u001b[0m\n\u001b[1;32m   1703\u001b[0m                               \u001b[0minitial_epoch\u001b[0m\u001b[0;34m=\u001b[0m\u001b[0minitial_epoch\u001b[0m\u001b[0;34m,\u001b[0m\u001b[0;34m\u001b[0m\u001b[0m\n\u001b[1;32m   1704\u001b[0m                               \u001b[0msteps_per_epoch\u001b[0m\u001b[0;34m=\u001b[0m\u001b[0msteps_per_epoch\u001b[0m\u001b[0;34m,\u001b[0m\u001b[0;34m\u001b[0m\u001b[0m\n\u001b[0;32m-> 1705\u001b[0;31m                               validation_steps=validation_steps)\n\u001b[0m\u001b[1;32m   1706\u001b[0m \u001b[0;34m\u001b[0m\u001b[0m\n\u001b[1;32m   1707\u001b[0m     def evaluate(self, x=None, y=None,\n",
      "\u001b[0;32m/anaconda/lib/python3.6/site-packages/keras/engine/training.py\u001b[0m in \u001b[0;36m_fit_loop\u001b[0;34m(self, f, ins, out_labels, batch_size, epochs, verbose, callbacks, val_f, val_ins, shuffle, callback_metrics, initial_epoch, steps_per_epoch, validation_steps)\u001b[0m\n\u001b[1;32m   1233\u001b[0m                         \u001b[0mins_batch\u001b[0m\u001b[0;34m[\u001b[0m\u001b[0mi\u001b[0m\u001b[0;34m]\u001b[0m \u001b[0;34m=\u001b[0m \u001b[0mins_batch\u001b[0m\u001b[0;34m[\u001b[0m\u001b[0mi\u001b[0m\u001b[0;34m]\u001b[0m\u001b[0;34m.\u001b[0m\u001b[0mtoarray\u001b[0m\u001b[0;34m(\u001b[0m\u001b[0;34m)\u001b[0m\u001b[0;34m\u001b[0m\u001b[0m\n\u001b[1;32m   1234\u001b[0m \u001b[0;34m\u001b[0m\u001b[0m\n\u001b[0;32m-> 1235\u001b[0;31m                     \u001b[0mouts\u001b[0m \u001b[0;34m=\u001b[0m \u001b[0mf\u001b[0m\u001b[0;34m(\u001b[0m\u001b[0mins_batch\u001b[0m\u001b[0;34m)\u001b[0m\u001b[0;34m\u001b[0m\u001b[0m\n\u001b[0m\u001b[1;32m   1236\u001b[0m                     \u001b[0;32mif\u001b[0m \u001b[0;32mnot\u001b[0m \u001b[0misinstance\u001b[0m\u001b[0;34m(\u001b[0m\u001b[0mouts\u001b[0m\u001b[0;34m,\u001b[0m \u001b[0mlist\u001b[0m\u001b[0;34m)\u001b[0m\u001b[0;34m:\u001b[0m\u001b[0;34m\u001b[0m\u001b[0m\n\u001b[1;32m   1237\u001b[0m                         \u001b[0mouts\u001b[0m \u001b[0;34m=\u001b[0m \u001b[0;34m[\u001b[0m\u001b[0mouts\u001b[0m\u001b[0;34m]\u001b[0m\u001b[0;34m\u001b[0m\u001b[0m\n",
      "\u001b[0;32m/anaconda/lib/python3.6/site-packages/keras/backend/tensorflow_backend.py\u001b[0m in \u001b[0;36m__call__\u001b[0;34m(self, inputs)\u001b[0m\n\u001b[1;32m   2474\u001b[0m             \u001b[0mfeed_dict\u001b[0m\u001b[0;34m[\u001b[0m\u001b[0mtensor\u001b[0m\u001b[0;34m]\u001b[0m \u001b[0;34m=\u001b[0m \u001b[0mvalue\u001b[0m\u001b[0;34m\u001b[0m\u001b[0m\n\u001b[1;32m   2475\u001b[0m         \u001b[0mfetches\u001b[0m \u001b[0;34m=\u001b[0m \u001b[0mself\u001b[0m\u001b[0;34m.\u001b[0m\u001b[0moutputs\u001b[0m \u001b[0;34m+\u001b[0m \u001b[0;34m[\u001b[0m\u001b[0mself\u001b[0m\u001b[0;34m.\u001b[0m\u001b[0mupdates_op\u001b[0m\u001b[0;34m]\u001b[0m \u001b[0;34m+\u001b[0m \u001b[0mself\u001b[0m\u001b[0;34m.\u001b[0m\u001b[0mfetches\u001b[0m\u001b[0;34m\u001b[0m\u001b[0m\n\u001b[0;32m-> 2476\u001b[0;31m         \u001b[0msession\u001b[0m \u001b[0;34m=\u001b[0m \u001b[0mget_session\u001b[0m\u001b[0;34m(\u001b[0m\u001b[0;34m)\u001b[0m\u001b[0;34m\u001b[0m\u001b[0m\n\u001b[0m\u001b[1;32m   2477\u001b[0m         updated = session.run(fetches=fetches, feed_dict=feed_dict,\n\u001b[1;32m   2478\u001b[0m                               **self.session_kwargs)\n",
      "\u001b[0;32m/anaconda/lib/python3.6/site-packages/keras/backend/tensorflow_backend.py\u001b[0m in \u001b[0;36mget_session\u001b[0;34m()\u001b[0m\n\u001b[1;32m    184\u001b[0m             \u001b[0mcandidate_vars\u001b[0m \u001b[0;34m=\u001b[0m \u001b[0;34m[\u001b[0m\u001b[0;34m]\u001b[0m\u001b[0;34m\u001b[0m\u001b[0m\n\u001b[1;32m    185\u001b[0m             \u001b[0;32mfor\u001b[0m \u001b[0mv\u001b[0m \u001b[0;32min\u001b[0m \u001b[0mvariables\u001b[0m\u001b[0;34m:\u001b[0m\u001b[0;34m\u001b[0m\u001b[0m\n\u001b[0;32m--> 186\u001b[0;31m                 \u001b[0;32mif\u001b[0m \u001b[0;32mnot\u001b[0m \u001b[0mgetattr\u001b[0m\u001b[0;34m(\u001b[0m\u001b[0mv\u001b[0m\u001b[0;34m,\u001b[0m \u001b[0;34m'_keras_initialized'\u001b[0m\u001b[0;34m,\u001b[0m \u001b[0;32mFalse\u001b[0m\u001b[0;34m)\u001b[0m\u001b[0;34m:\u001b[0m\u001b[0;34m\u001b[0m\u001b[0m\n\u001b[0m\u001b[1;32m    187\u001b[0m                     \u001b[0mcandidate_vars\u001b[0m\u001b[0;34m.\u001b[0m\u001b[0mappend\u001b[0m\u001b[0;34m(\u001b[0m\u001b[0mv\u001b[0m\u001b[0;34m)\u001b[0m\u001b[0;34m\u001b[0m\u001b[0m\n\u001b[1;32m    188\u001b[0m             \u001b[0;32mif\u001b[0m \u001b[0mcandidate_vars\u001b[0m\u001b[0;34m:\u001b[0m\u001b[0;34m\u001b[0m\u001b[0m\n",
      "\u001b[0;31mKeyboardInterrupt\u001b[0m: "
     ]
    }
   ],
   "source": [
    "# truncate and pad input sequences\n",
    "max_review_length = 1000\n",
    "# create the model\n",
    "embedding_vector_length = 32\n",
    "model = Sequential()\n",
    "model.add(Embedding(top_words, embedding_vector_length, input_length=max_review_length))\n",
    "model.add(LSTM(100))\n",
    "model.add(Dense(11, activation='sigmoid'))\n",
    "model.compile(loss='categorical_crossentropy', optimizer='adam', metrics=['accuracy'])\n",
    "print(model.summary())\n",
    "model.fit(X_train_padded, y_train, nb_epoch=1, batch_size=64)\n",
    "# Final evaluation of the model\n",
    "scores = model.evaluate(X_test_padded, y_test, verbose=0)\n",
    "print(\"Accuracy: %.2f%%\" % (scores[1]*100))"
   ]
  },
  {
   "cell_type": "code",
   "execution_count": null,
   "metadata": {
    "collapsed": true
   },
   "outputs": [],
   "source": []
  }
 ],
 "metadata": {
  "kernelspec": {
   "display_name": "Python 3",
   "language": "python",
   "name": "python3"
  },
  "language_info": {
   "codemirror_mode": {
    "name": "ipython",
    "version": 3
   },
   "file_extension": ".py",
   "mimetype": "text/x-python",
   "name": "python",
   "nbconvert_exporter": "python",
   "pygments_lexer": "ipython3",
   "version": "3.6.1"
  }
 },
 "nbformat": 4,
 "nbformat_minor": 2
}
